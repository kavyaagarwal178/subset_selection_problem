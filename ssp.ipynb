{
  "nbformat": 4,
  "nbformat_minor": 0,
  "metadata": {
    "colab": {
      "provenance": [],
      "authorship_tag": "ABX9TyNiLedaMKnc4UbYcApPUDuc",
      "include_colab_link": true
    },
    "kernelspec": {
      "name": "python3",
      "display_name": "Python 3"
    },
    "language_info": {
      "name": "python"
    }
  },
  "cells": [
    {
      "cell_type": "markdown",
      "metadata": {
        "id": "view-in-github",
        "colab_type": "text"
      },
      "source": [
        "<a href=\"https://colab.research.google.com/github/kavyaagarwal178/subset_selection_problem/blob/main/ssp.ipynb\" target=\"_parent\"><img src=\"https://colab.research.google.com/assets/colab-badge.svg\" alt=\"Open In Colab\"/></a>"
      ]
    },
    {
      "cell_type": "markdown",
      "source": [
        "# **SUBSET SELECTION PROBLEM**\n",
        "**1. Problem Statement:**\n",
        "\n",
        "Find all the subsets from a set of numbers whose sum is zero.\n",
        "\n",
        "**Constraint:** Subset size must be 5\n",
        "\n",
        "Set={-12, -3, -6, 7, 2, -2, 6, 3, 9, -7, -5, -8, 1, 11, -9, -4}"
      ],
      "metadata": {
        "id": "_N67zS3dB5yv"
      }
    },
    {
      "cell_type": "code",
      "source": [
        "import random as r \n",
        "Set = {-12, -3, -6, 7, 2, -2, 6, 3, 9, -7, -5, -8, 1, 11, -9, -4}\n",
        "ss = 5\n",
        "rs = set()\n",
        "for q in range(300):\n",
        "  ele=r.sample(Set,ss)\n",
        "  if sum(ele)==0:\n",
        "    rs.add(tuple(ele))\n",
        "for r in rs:\n",
        "  print(r)\n",
        "print(\"total sets:\",len(rs))\n"
      ],
      "metadata": {
        "colab": {
          "base_uri": "https://localhost:8080/"
        },
        "id": "GT_YzXPgC2-w",
        "outputId": "fc2f1192-c5bb-43fb-c631-3b5231366b56"
      },
      "execution_count": null,
      "outputs": [
        {
          "output_type": "stream",
          "name": "stdout",
          "text": [
            "(-5, -12, 1, 7, 9)\n",
            "(-2, -7, -3, 11, 1)\n",
            "(9, -2, -7, 6, -6)\n",
            "(3, -4, -2, 2, 1)\n",
            "(-3, 9, -5, -12, 11)\n",
            "(-4, 2, 1, 7, -6)\n",
            "(11, -5, -4, -8, 6)\n",
            "(-3, -6, 11, -5, 3)\n",
            "(2, -12, 1, -2, 11)\n",
            "total sets: 9\n"
          ]
        },
        {
          "output_type": "stream",
          "name": "stderr",
          "text": [
            "<ipython-input-2-175b22f74627>:6: DeprecationWarning: Sampling from a set deprecated\n",
            "since Python 3.9 and will be removed in a subsequent version.\n",
            "  ele=r.sample(Set,ss)\n"
          ]
        }
      ]
    },
    {
      "cell_type": "markdown",
      "source": [
        "**2. Problem Statement**\n",
        "Find all the subsets from a set of numbers whose sum is zero.\n",
        "\n",
        "**Constraint:** Subset size must be 3 to 6 only\n",
        "\n",
        "Set={-12, -3, -6, 7, 2, -2, 6, 3, 9, -7, -5, -8, 1, 11, -9, -4}\n"
      ],
      "metadata": {
        "id": "y4_kMLWenXTT"
      }
    },
    {
      "cell_type": "code",
      "source": [
        "import random as r\n",
        "Set=set([-12, -3, -6, 7, 2, -2, 6, 3, 9, -7, -5, -8, 1, 11, -9, -4])\n",
        "lb=3\n",
        "ub= 6\n",
        "Rl=set()    \n",
        "Iterations=1000\n",
        "for i in range(Iterations):\n",
        "  SS = r.randint(lb,ub)\n",
        "  ele=r.sample(Set,SS)\n",
        "  ele.sort()\n",
        "  if sum(ele) == 0:\n",
        "    Rl.add(tuple(ele))\n",
        "for r in Rl:\n",
        "  print (r)       \n",
        "print (\"\\nTotal Sets: \", len(Rl))"
      ],
      "metadata": {
        "colab": {
          "base_uri": "https://localhost:8080/"
        },
        "id": "QhIiOC8enrIY",
        "outputId": "c26c11b6-8bf7-42fc-ae55-cd86dcba6f1b"
      },
      "execution_count": 5,
      "outputs": [
        {
          "output_type": "stream",
          "name": "stdout",
          "text": [
            "(-7, -6, -3, -2, 7, 11)\n",
            "(-12, -3, -2, 2, 6, 9)\n",
            "(-12, 1, 2, 9)\n",
            "(-12, -2, 1, 6, 7)\n",
            "(-5, 2, 3)\n",
            "(-9, -2, 2, 9)\n",
            "(-8, -2, 3, 7)\n",
            "(-4, 1, 3)\n",
            "(-12, -9, 1, 2, 7, 11)\n",
            "(-12, 1, 11)\n",
            "(-9, -5, -4, 1, 6, 11)\n",
            "(-8, 2, 6)\n",
            "(-12, -3, -2, 1, 7, 9)\n",
            "(-6, -4, -2, 2, 3, 7)\n",
            "(-9, -6, 6, 9)\n",
            "(-8, -3, -2, 2, 11)\n",
            "(-9, -5, -3, 6, 11)\n",
            "(-9, 3, 6)\n",
            "(-4, -3, 1, 6)\n",
            "(-3, 1, 2)\n",
            "\n",
            "Total Sets:  20\n"
          ]
        },
        {
          "output_type": "stream",
          "name": "stderr",
          "text": [
            "<ipython-input-5-dd38ee487954>:9: DeprecationWarning: Sampling from a set deprecated\n",
            "since Python 3.9 and will be removed in a subsequent version.\n",
            "  ele=r.sample(Set,SS)\n"
          ]
        }
      ]
    }
  ]
}